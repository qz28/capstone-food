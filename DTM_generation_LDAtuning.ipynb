{
 "cells": [
  {
   "cell_type": "markdown",
   "metadata": {
    "deletable": true,
    "editable": true
   },
   "source": [
    "# Build Doucment Term Matrix and Filter Rare Words"
   ]
  },
  {
   "cell_type": "code",
   "execution_count": 22,
   "metadata": {
    "collapsed": false,
    "deletable": true,
    "editable": true
   },
   "outputs": [
    {
     "name": "stderr",
     "output_type": "stream",
     "text": [
      "Loading required package: NLP\n"
     ]
    }
   ],
   "source": [
    "library(jsonlite)\n",
    "library(tm)"
   ]
  },
  {
   "cell_type": "code",
   "execution_count": 23,
   "metadata": {
    "collapsed": false,
    "deletable": true,
    "editable": true
   },
   "outputs": [
    {
     "data": {
      "text/html": [
       "<ol class=list-inline>\n",
       "\t<li>167508</li>\n",
       "\t<li>3949</li>\n",
       "</ol>\n"
      ],
      "text/latex": [
       "\\begin{enumerate*}\n",
       "\\item 167508\n",
       "\\item 3949\n",
       "\\end{enumerate*}\n"
      ],
      "text/markdown": [
       "1. 167508\n",
       "2. 3949\n",
       "\n",
       "\n"
      ],
      "text/plain": [
       "[1] 167508   3949"
      ]
     },
     "metadata": {},
     "output_type": "display_data"
    }
   ],
   "source": [
    "ingredients=fromJSON('./data/words/simplified.json')\n",
    "ingred=Corpus(VectorSource(ingredients$ingredients))\n",
    "DTM=DocumentTermMatrix(ingred,control=list(tolower=F))\n",
    "dim(DTM)"
   ]
  },
  {
   "cell_type": "code",
   "execution_count": 24,
   "metadata": {
    "collapsed": true,
    "deletable": true,
    "editable": true
   },
   "outputs": [],
   "source": [
    "sparse = removeSparseTerms(DTM, 0.9999)"
   ]
  },
  {
   "cell_type": "code",
   "execution_count": 4,
   "metadata": {
    "collapsed": true,
    "deletable": true,
    "editable": true
   },
   "outputs": [],
   "source": [
    "library(Matrix)"
   ]
  },
  {
   "cell_type": "code",
   "execution_count": 5,
   "metadata": {
    "collapsed": false,
    "deletable": true,
    "editable": true
   },
   "outputs": [
    {
     "data": {
      "text/html": [
       "<ol class=list-inline>\n",
       "\t<li>167508</li>\n",
       "\t<li>1852</li>\n",
       "</ol>\n"
      ],
      "text/latex": [
       "\\begin{enumerate*}\n",
       "\\item 167508\n",
       "\\item 1852\n",
       "\\end{enumerate*}\n"
      ],
      "text/markdown": [
       "1. 167508\n",
       "2. 1852\n",
       "\n",
       "\n"
      ],
      "text/plain": [
       "[1] 167508   1852"
      ]
     },
     "metadata": {},
     "output_type": "display_data"
    }
   ],
   "source": [
    "sparseData=as(as.matrix(sparse), \"sparseMatrix\")\n",
    "dim(sparseData)"
   ]
  },
  {
   "cell_type": "code",
   "execution_count": 4,
   "metadata": {
    "collapsed": true,
    "deletable": true,
    "editable": true
   },
   "outputs": [],
   "source": [
    "write.table(colnames(sparse),'./data/keywords.txt',row.names=F,col.names=F)"
   ]
  },
  {
   "cell_type": "code",
   "execution_count": 6,
   "metadata": {
    "collapsed": false,
    "deletable": true,
    "editable": true
   },
   "outputs": [
    {
     "data": {
      "text/plain": [
       "NULL"
      ]
     },
     "metadata": {},
     "output_type": "display_data"
    }
   ],
   "source": [
    "writeMM(sparseData, './data/document_term_matrix.mtx')"
   ]
  },
  {
   "cell_type": "markdown",
   "metadata": {
    "deletable": true,
    "editable": true
   },
   "source": [
    "# LDA Tuning to Determine Best Number of Topics"
   ]
  },
  {
   "cell_type": "code",
   "execution_count": 4,
   "metadata": {
    "collapsed": false,
    "deletable": true,
    "editable": true
   },
   "outputs": [],
   "source": [
    "library(ldatuning)"
   ]
  },
  {
   "cell_type": "code",
   "execution_count": 5,
   "metadata": {
    "collapsed": false,
    "deletable": true,
    "editable": true
   },
   "outputs": [],
   "source": [
    "index=sample.int(dim(sparse)[1], dim(sparse)[1], replace = FALSE, prob = NULL)\n",
    "shuffled=sparse[index,]"
   ]
  },
  {
   "cell_type": "code",
   "execution_count": 6,
   "metadata": {
    "collapsed": false,
    "deletable": true,
    "editable": true
   },
   "outputs": [
    {
     "data": {
      "text/html": [
       "<ol class=list-inline>\n",
       "\t<li>167508</li>\n",
       "\t<li>1852</li>\n",
       "</ol>\n"
      ],
      "text/latex": [
       "\\begin{enumerate*}\n",
       "\\item 167508\n",
       "\\item 1852\n",
       "\\end{enumerate*}\n"
      ],
      "text/markdown": [
       "1. 167508\n",
       "2. 1852\n",
       "\n",
       "\n"
      ],
      "text/plain": [
       "[1] 167508   1852"
      ]
     },
     "metadata": {},
     "output_type": "display_data"
    }
   ],
   "source": [
    "dim(shuffled)"
   ]
  },
  {
   "cell_type": "code",
   "execution_count": 7,
   "metadata": {
    "collapsed": false,
    "deletable": true,
    "editable": true
   },
   "outputs": [
    {
     "name": "stdout",
     "output_type": "stream",
     "text": [
      "fit models... done.\n",
      "calculate metrics:\n",
      "  Griffiths2004... done.\n",
      "  CaoJuan2009... done.\n",
      "  Arun2010... done.\n",
      "  Deveaud2014... done.\n"
     ]
    }
   ],
   "source": [
    "result <- FindTopicsNumber(\n",
    "  shuffled,\n",
    "  topics = round(c(5:14)^2.2),\n",
    "  metrics = c(\"Griffiths2004\", \"CaoJuan2009\", \"Arun2010\", \"Deveaud2014\"),\n",
    "  method = \"Gibbs\",\n",
    "  control = list(seed = 77),\n",
    "  mc.cores = 3L,\n",
    "  verbose = TRUE\n",
    ")"
   ]
  },
  {
   "cell_type": "code",
   "execution_count": 8,
   "metadata": {
    "collapsed": false,
    "deletable": true,
    "editable": true,
    "scrolled": true
   },
   "outputs": [
    {
     "data": {
      "image/png": "[encoded data removed]",
      "text/plain": [
       "plot without title"
      ]
     },
     "metadata": {},
     "output_type": "display_data"
    }
   ],
   "source": [
    "FindTopicsNumber_plot(result)"
   ]
  },
  {
   "cell_type": "markdown",
   "metadata": {
    "deletable": true,
    "editable": true
   },
   "source": [
    "# Fitting LDA Transformed Data into Dirichlet Distribution \n",
    "Determine the Prior for Document-topic Distribution"
   ]
  },
  {
   "cell_type": "code",
   "execution_count": 1,
   "metadata": {
    "collapsed": true,
    "deletable": true,
    "editable": true
   },
   "outputs": [],
   "source": [
    "y=read.csv('./data/LDAtransformed.csv',header=F)"
   ]
  },
  {
   "cell_type": "code",
   "execution_count": 2,
   "metadata": {
    "collapsed": false,
    "deletable": true,
    "editable": true
   },
   "outputs": [
    {
     "name": "stderr",
     "output_type": "stream",
     "text": [
      "Loading required package: stats4\n",
      "Loading required package: splines\n"
     ]
    }
   ],
   "source": [
    "library(VGAM)"
   ]
  },
  {
   "cell_type": "code",
   "execution_count": null,
   "metadata": {
    "collapsed": true,
    "deletable": true,
    "editable": true
   },
   "outputs": [],
   "source": [
    "shape=matrix(0,0,160)"
   ]
  },
  {
   "cell_type": "code",
   "execution_count": 14,
   "metadata": {
    "collapsed": false,
    "deletable": true,
    "editable": true
   },
   "outputs": [
    {
     "data": {
      "text/html": [
       "<table>\n",
       "<thead><tr><th></th><th scope=col>loge(shape1)</th><th scope=col>loge(shape2)</th><th scope=col>loge(shape3)</th><th scope=col>loge(shape4)</th><th scope=col>loge(shape5)</th><th scope=col>loge(shape6)</th><th scope=col>loge(shape7)</th><th scope=col>loge(shape8)</th><th scope=col>loge(shape9)</th><th scope=col>loge(shape10)</th><th scope=col>⋯</th><th scope=col>loge(shape151)</th><th scope=col>loge(shape152)</th><th scope=col>loge(shape153)</th><th scope=col>loge(shape154)</th><th scope=col>loge(shape155)</th><th scope=col>loge(shape156)</th><th scope=col>loge(shape157)</th><th scope=col>loge(shape158)</th><th scope=col>loge(shape159)</th><th scope=col>loge(shape160)</th></tr></thead>\n",
       "<tbody>\n",
       "\t<tr><th scope=row>(Intercept)</th><td>0.2365166</td><td>0.2368364</td><td>0.2570545</td><td>0.2651252</td><td>0.2663623</td><td>0.2605673</td><td>0.2365771</td><td>0.2365698</td><td>0.2692210</td><td>0.2681192</td><td>⋯        </td><td>0.2366231</td><td>0.2890423</td><td>0.2368364</td><td>0.2702998</td><td>0.2365166</td><td>0.2777834</td><td>0.2369115</td><td>0.2365166</td><td>0.3071974</td><td>0.2366764</td></tr>\n",
       "\t<tr><th scope=row>(Intercept)</th><td>0.2365590</td><td>0.2369858</td><td>0.2562429</td><td>0.2648771</td><td>0.2668535</td><td>0.2618650</td><td>0.2366195</td><td>0.2366123</td><td>0.2687676</td><td>0.2714644</td><td>⋯        </td><td>0.2366123</td><td>0.2879894</td><td>0.2368256</td><td>0.2692912</td><td>0.2366123</td><td>0.2780197</td><td>0.2367189</td><td>0.2365590</td><td>0.3101590</td><td>0.2366656</td></tr>\n",
       "\t<tr><th scope=row>(Intercept)</th><td>0.2368269</td><td>0.2370940</td><td>0.2565663</td><td>0.2643648</td><td>0.2627335</td><td>0.2598198</td><td>0.2368414</td><td>0.2367736</td><td>0.2698484</td><td>0.2734562</td><td>⋯        </td><td>0.2368269</td><td>0.2909552</td><td>0.2370405</td><td>0.2724904</td><td>0.2369554</td><td>0.2772834</td><td>0.2372228</td><td>0.2367202</td><td>0.3017668</td><td>0.2370940</td></tr>\n",
       "</tbody>\n",
       "</table>\n"
      ],
      "text/latex": [
       "\\begin{tabular}{r|llllllllllllllllllllllllllllllllllllllllllllllllllllllllllllllllllllllllllllllllllllllllllllllllllllllllllllllllllllllllllllllllllllllllllllllllllllllllllllllll}\n",
       "  & loge(shape1) & loge(shape2) & loge(shape3) & loge(shape4) & loge(shape5) & loge(shape6) & loge(shape7) & loge(shape8) & loge(shape9) & loge(shape10) & ⋯ & loge(shape151) & loge(shape152) & loge(shape153) & loge(shape154) & loge(shape155) & loge(shape156) & loge(shape157) & loge(shape158) & loge(shape159) & loge(shape160)\\\\\n",
       "\\hline\n",
       "\t(Intercept) & 0.2365166 & 0.2368364 & 0.2570545 & 0.2651252 & 0.2663623 & 0.2605673 & 0.2365771 & 0.2365698 & 0.2692210 & 0.2681192 & ⋯         & 0.2366231 & 0.2890423 & 0.2368364 & 0.2702998 & 0.2365166 & 0.2777834 & 0.2369115 & 0.2365166 & 0.3071974 & 0.2366764\\\\\n",
       "\t(Intercept) & 0.2365590 & 0.2369858 & 0.2562429 & 0.2648771 & 0.2668535 & 0.2618650 & 0.2366195 & 0.2366123 & 0.2687676 & 0.2714644 & ⋯         & 0.2366123 & 0.2879894 & 0.2368256 & 0.2692912 & 0.2366123 & 0.2780197 & 0.2367189 & 0.2365590 & 0.3101590 & 0.2366656\\\\\n",
       "\t(Intercept) & 0.2368269 & 0.2370940 & 0.2565663 & 0.2643648 & 0.2627335 & 0.2598198 & 0.2368414 & 0.2367736 & 0.2698484 & 0.2734562 & ⋯         & 0.2368269 & 0.2909552 & 0.2370405 & 0.2724904 & 0.2369554 & 0.2772834 & 0.2372228 & 0.2367202 & 0.3017668 & 0.2370940\\\\\n",
       "\\end{tabular}\n"
      ],
      "text/markdown": [
       "\n",
       "| <!--/--> | loge(shape1) | loge(shape2) | loge(shape3) | loge(shape4) | loge(shape5) | loge(shape6) | loge(shape7) | loge(shape8) | loge(shape9) | loge(shape10) | ⋯ | loge(shape151) | loge(shape152) | loge(shape153) | loge(shape154) | loge(shape155) | loge(shape156) | loge(shape157) | loge(shape158) | loge(shape159) | loge(shape160) | \n",
       "|---|---|---|\n",
       "| (Intercept) | 0.2365166 | 0.2368364 | 0.2570545 | 0.2651252 | 0.2663623 | 0.2605673 | 0.2365771 | 0.2365698 | 0.2692210 | 0.2681192 | ⋯         | 0.2366231 | 0.2890423 | 0.2368364 | 0.2702998 | 0.2365166 | 0.2777834 | 0.2369115 | 0.2365166 | 0.3071974 | 0.2366764 | \n",
       "| (Intercept) | 0.2365590 | 0.2369858 | 0.2562429 | 0.2648771 | 0.2668535 | 0.2618650 | 0.2366195 | 0.2366123 | 0.2687676 | 0.2714644 | ⋯         | 0.2366123 | 0.2879894 | 0.2368256 | 0.2692912 | 0.2366123 | 0.2780197 | 0.2367189 | 0.2365590 | 0.3101590 | 0.2366656 | \n",
       "| (Intercept) | 0.2368269 | 0.2370940 | 0.2565663 | 0.2643648 | 0.2627335 | 0.2598198 | 0.2368414 | 0.2367736 | 0.2698484 | 0.2734562 | ⋯         | 0.2368269 | 0.2909552 | 0.2370405 | 0.2724904 | 0.2369554 | 0.2772834 | 0.2372228 | 0.2367202 | 0.3017668 | 0.2370940 | \n",
       "\n",
       "\n"
      ],
      "text/plain": [
       "            loge(shape1) loge(shape2) loge(shape3) loge(shape4) loge(shape5)\n",
       "(Intercept) 0.2365166    0.2368364    0.2570545    0.2651252    0.2663623   \n",
       "(Intercept) 0.2365590    0.2369858    0.2562429    0.2648771    0.2668535   \n",
       "(Intercept) 0.2368269    0.2370940    0.2565663    0.2643648    0.2627335   \n",
       "            loge(shape6) loge(shape7) loge(shape8) loge(shape9) loge(shape10) ⋯\n",
       "(Intercept) 0.2605673    0.2365771    0.2365698    0.2692210    0.2681192     ⋯\n",
       "(Intercept) 0.2618650    0.2366195    0.2366123    0.2687676    0.2714644     ⋯\n",
       "(Intercept) 0.2598198    0.2368414    0.2367736    0.2698484    0.2734562     ⋯\n",
       "            loge(shape151) loge(shape152) loge(shape153) loge(shape154)\n",
       "(Intercept) 0.2366231      0.2890423      0.2368364      0.2702998     \n",
       "(Intercept) 0.2366123      0.2879894      0.2368256      0.2692912     \n",
       "(Intercept) 0.2368269      0.2909552      0.2370405      0.2724904     \n",
       "            loge(shape155) loge(shape156) loge(shape157) loge(shape158)\n",
       "(Intercept) 0.2365166      0.2777834      0.2369115      0.2365166     \n",
       "(Intercept) 0.2366123      0.2780197      0.2367189      0.2365590     \n",
       "(Intercept) 0.2369554      0.2772834      0.2372228      0.2367202     \n",
       "            loge(shape159) loge(shape160)\n",
       "(Intercept) 0.3071974      0.2366764     \n",
       "(Intercept) 0.3101590      0.2366656     \n",
       "(Intercept) 0.3017668      0.2370940     "
      ]
     },
     "metadata": {},
     "output_type": "display_data"
    }
   ],
   "source": [
    "index=sample.int(dim(y)[1], 5000, replace = FALSE, prob = NULL)\n",
    "sub=as.matrix(y)[index,]\n",
    "fit = vglm(sub ~ 1, dirichlet, trace = TRUE, crit=\"c\")\n",
    "shape=rbind(shape,exp(coef(fit, matrix=TRUE)))\n",
    "shape"
   ]
  },
  {
   "cell_type": "code",
   "execution_count": 15,
   "metadata": {
    "collapsed": false,
    "deletable": true,
    "editable": true
   },
   "outputs": [
    {
     "data": {
      "text/html": [
       "0.255644474041518"
      ],
      "text/latex": [
       "0.255644474041518"
      ],
      "text/markdown": [
       "0.255644474041518"
      ],
      "text/plain": [
       "[1] 0.2556445"
      ]
     },
     "metadata": {},
     "output_type": "display_data"
    }
   ],
   "source": [
    "mean(shape)"
   ]
  },
  {
   "cell_type": "markdown",
   "metadata": {},
   "source": [
    "# Fitting Number of Ingredients to Negative Binomial Distribution"
   ]
  },
  {
   "cell_type": "code",
   "execution_count": 105,
   "metadata": {
    "collapsed": false
   },
   "outputs": [],
   "source": [
    "recipes=as.list(ingred)\n",
    "number_of_ingredients=function(document){\n",
    "    length(strsplit(document,\", \")[[1]])-1\n",
    "    }\n",
    "counts=unlist(lapply(recipes, number_of_ingredients))"
   ]
  },
  {
   "cell_type": "code",
   "execution_count": 110,
   "metadata": {
    "collapsed": false
   },
   "outputs": [],
   "source": [
    "library(MASS)\n",
    "nb=fitdistr(counts, densfun=\"negative binomial\")"
   ]
  },
  {
   "cell_type": "code",
   "execution_count": 111,
   "metadata": {
    "collapsed": false
   },
   "outputs": [
    {
     "data": {
      "text/html": [
       "<dl class=dl-horizontal>\n",
       "\t<dt>size</dt>\n",
       "\t\t<dd>14.6074198453365</dd>\n",
       "\t<dt>mu</dt>\n",
       "\t\t<dd>11.7748404222501</dd>\n",
       "</dl>\n"
      ],
      "text/latex": [
       "\\begin{description*}\n",
       "\\item[size] 14.6074198453365\n",
       "\\item[mu] 11.7748404222501\n",
       "\\end{description*}\n"
      ],
      "text/markdown": [
       "size\n",
       ":   14.6074198453365mu\n",
       ":   11.7748404222501\n",
       "\n"
      ],
      "text/plain": [
       "    size       mu \n",
       "14.60742 11.77484 "
      ]
     },
     "metadata": {},
     "output_type": "display_data"
    },
    {
     "data": {
      "text/html": [
       "<strong>size:</strong> 0.553683410639508"
      ],
      "text/latex": [
       "\\textbf{size:} 0.553683410639508"
      ],
      "text/markdown": [
       "**size:** 0.553683410639508"
      ],
      "text/plain": [
       "     size \n",
       "0.5536834 "
      ]
     },
     "metadata": {},
     "output_type": "display_data"
    }
   ],
   "source": [
    "coef(nb)\n",
    "prob=coef(nb)[1]/(coef(nb)[1]+coef(nb)[2])\n",
    "prob"
   ]
  },
  {
   "cell_type": "code",
   "execution_count": 113,
   "metadata": {
    "collapsed": false
   },
   "outputs": [
    {
     "data": {
      "image/png": "[encoded data removed]",
      "text/plain": [
       "Plot with title “Histogram of counts”"
      ]
     },
     "metadata": {},
     "output_type": "display_data"
    }
   ],
   "source": [
    "hist(counts, freq = F, ylim=c(0,0.1))\n",
    "x=c(0:100)\n",
    "lines(x, dnbinom(x, size=coef(nb)[1], mu=coef(nb)[2], log = FALSE),col='blue')"
   ]
  },
  {
   "cell_type": "code",
   "execution_count": null,
   "metadata": {
    "collapsed": true
   },
   "outputs": [],
   "source": []
  }
 ],
 "metadata": {
  "kernelspec": {
   "display_name": "R",
   "language": "R",
   "name": "ir"
  },
  "language_info": {
   "codemirror_mode": "r",
   "file_extension": ".r",
   "mimetype": "text/x-r-source",
   "name": "R",
   "pygments_lexer": "r",
   "version": "3.4.0"
  }
 },
 "nbformat": 4,
 "nbformat_minor": 2
}

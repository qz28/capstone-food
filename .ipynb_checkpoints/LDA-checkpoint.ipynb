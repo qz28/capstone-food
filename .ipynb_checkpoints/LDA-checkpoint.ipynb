{
 "cells": [
  {
   "cell_type": "markdown",
   "metadata": {},
   "source": [
    "# Read Document Term Matrix"
   ]
  },
  {
   "cell_type": "code",
   "execution_count": 1,
   "metadata": {
    "collapsed": true,
    "deletable": true,
    "editable": true
   },
   "outputs": [],
   "source": [
    "from scipy.io import mmread\n",
    "DTM = mmread('./data/document_term_matrix.mtx')"
   ]
  },
  {
   "cell_type": "code",
   "execution_count": 2,
   "metadata": {
    "collapsed": false,
    "deletable": true,
    "editable": true
   },
   "outputs": [
    {
     "data": {
      "text/plain": [
       "(167508, 1852)"
      ]
     },
     "execution_count": 2,
     "metadata": {},
     "output_type": "execute_result"
    }
   ],
   "source": [
    "DTM.shape"
   ]
  },
  {
   "cell_type": "code",
   "execution_count": 8,
   "metadata": {
    "collapsed": false,
    "deletable": true,
    "editable": true
   },
   "outputs": [
    {
     "data": {
      "text/plain": [
       "<100x9 sparse matrix of type '<type 'numpy.int64'>'\n",
       "\twith 277 stored elements in Compressed Sparse Row format>"
      ]
     },
     "execution_count": 8,
     "metadata": {},
     "output_type": "execute_result"
    }
   ],
   "source": [
    "DTM = DTM.tocsr()"
   ]
  },
  {
   "cell_type": "code",
   "execution_count": 16,
   "metadata": {
    "collapsed": false,
    "deletable": true,
    "editable": true
   },
   "outputs": [
    {
     "name": "stdout",
     "output_type": "stream",
     "text": [
      "167507\n",
      "43533\n"
     ]
    }
   ],
   "source": [
    "from random import shuffle\n",
    "import numpy as np\n",
    "a=np.arange(DTM.shape[0])\n",
    "print a[-1]\n",
    "shuffle(a)\n",
    "print a[-1]"
   ]
  },
  {
   "cell_type": "code",
   "execution_count": 17,
   "metadata": {
    "collapsed": false,
    "deletable": true,
    "editable": true
   },
   "outputs": [
    {
     "data": {
      "text/plain": [
       "(167508, 1852)"
      ]
     },
     "execution_count": 17,
     "metadata": {},
     "output_type": "execute_result"
    }
   ],
   "source": [
    "sDTM=DTM[a,]\n",
    "sDTM.shape"
   ]
  },
  {
   "cell_type": "markdown",
   "metadata": {},
   "source": [
    "# LDA Fitting"
   ]
  },
  {
   "cell_type": "code",
   "execution_count": 44,
   "metadata": {
    "collapsed": false,
    "deletable": true,
    "editable": true
   },
   "outputs": [
    {
     "name": "stdout",
     "output_type": "stream",
     "text": [
      "iteration: 10, perplexity: 581.9972\n",
      "iteration: 20, perplexity: 584.7747\n",
      "iteration: 30, perplexity: 586.0277\n",
      "iteration: 40, perplexity: 586.9068\n",
      "iteration: 50, perplexity: 587.5619\n",
      "iteration: 60, perplexity: 588.0576\n",
      "iteration: 70, perplexity: 588.3655\n",
      "iteration: 80, perplexity: 588.6657\n",
      "iteration: 90, perplexity: 588.8444\n",
      "iteration: 100, perplexity: 588.9585\n",
      "iteration: 110, perplexity: 589.0760\n",
      "iteration: 120, perplexity: 589.1915\n",
      "iteration: 130, perplexity: 589.2948\n",
      "iteration: 140, perplexity: 589.4138\n",
      "iteration: 150, perplexity: 589.4454\n",
      "iteration: 160, perplexity: 589.4806\n",
      "iteration: 170, perplexity: 589.5162\n",
      "iteration: 180, perplexity: 589.5330\n",
      "iteration: 190, perplexity: 589.5655\n",
      "iteration: 200, perplexity: 589.5803\n",
      "iteration: 210, perplexity: 589.5900\n",
      "iteration: 220, perplexity: 589.6023\n",
      "iteration: 230, perplexity: 589.6080\n",
      "iteration: 240, perplexity: 589.6168\n",
      "iteration: 250, perplexity: 589.6237\n",
      "iteration: 260, perplexity: 589.6241\n"
     ]
    },
    {
     "data": {
      "text/plain": [
       "LatentDirichletAllocation(batch_size=128, doc_topic_prior=None,\n",
       "             evaluate_every=10, learning_decay=0.7,\n",
       "             learning_method='online', learning_offset=10.0,\n",
       "             max_doc_update_iter=1000, max_iter=500, mean_change_tol=0.001,\n",
       "             n_jobs=1, n_topics=160, perp_tol=0.001, random_state=1,\n",
       "             topic_word_prior=None, total_samples=1000000.0, verbose=1)"
      ]
     },
     "execution_count": 44,
     "metadata": {},
     "output_type": "execute_result"
    }
   ],
   "source": [
    "from sklearn.decomposition import LatentDirichletAllocation\n",
    "LDA=LatentDirichletAllocation(n_topics=160,learning_method='online',n_jobs=1,random_state=1,max_iter=500, max_doc_update_iter=1000, perp_tol=1e-3, evaluate_every=10,verbose=1)\n",
    "LDA.fit(sDTM)"
   ]
  },
  {
   "cell_type": "code",
   "execution_count": 54,
   "metadata": {
    "collapsed": false,
    "deletable": true,
    "editable": true
   },
   "outputs": [],
   "source": [
    "np.save('./data/LDAcomponent',LDA.components_)"
   ]
  },
  {
   "cell_type": "code",
   "execution_count": 55,
   "metadata": {
    "collapsed": false,
    "deletable": true,
    "editable": true
   },
   "outputs": [],
   "source": [
    "LDAtransformed=LDA.transform(DTM)"
   ]
  },
  {
   "cell_type": "code",
   "execution_count": 56,
   "metadata": {
    "collapsed": false,
    "deletable": true,
    "editable": true
   },
   "outputs": [
    {
     "data": {
      "text/plain": [
       "(167508, 160)"
      ]
     },
     "execution_count": 56,
     "metadata": {},
     "output_type": "execute_result"
    }
   ],
   "source": [
    "LDAtransformed.shape"
   ]
  },
  {
   "cell_type": "code",
   "execution_count": 61,
   "metadata": {
    "collapsed": false,
    "deletable": true,
    "editable": true
   },
   "outputs": [],
   "source": [
    "np.savetxt(\"./data/LDAtransformed.csv\", LDAtransformed, delimiter=\",\")"
   ]
  },
  {
   "cell_type": "code",
   "execution_count": null,
   "metadata": {
    "collapsed": true,
    "deletable": true,
    "editable": true
   },
   "outputs": [],
   "source": []
  }
 ],
 "metadata": {
  "kernelspec": {
   "display_name": "Python 2",
   "language": "python",
   "name": "python2"
  },
  "language_info": {
   "codemirror_mode": {
    "name": "ipython",
    "version": 2
   },
   "file_extension": ".py",
   "mimetype": "text/x-python",
   "name": "python",
   "nbconvert_exporter": "python",
   "pygments_lexer": "ipython2",
   "version": "2.7.13"
  }
 },
 "nbformat": 4,
 "nbformat_minor": 2
}

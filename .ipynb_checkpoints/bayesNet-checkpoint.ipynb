{
 "cells": [
  {
   "cell_type": "code",
   "execution_count": 1,
   "metadata": {
    "collapsed": false,
    "deletable": true,
    "editable": true
   },
   "outputs": [
    {
     "name": "stderr",
     "output_type": "stream",
     "text": [
      "Loading required package: NLP\n"
     ]
    }
   ],
   "source": [
    "library(jsonlite)\n",
    "library(tm)"
   ]
  },
  {
   "cell_type": "code",
   "execution_count": 2,
   "metadata": {
    "collapsed": false,
    "deletable": true,
    "editable": true
   },
   "outputs": [
    {
     "data": {
      "text/html": [
       "<ol class=list-inline>\n",
       "\t<li>167508</li>\n",
       "\t<li>4019</li>\n",
       "</ol>\n"
      ],
      "text/latex": [
       "\\begin{enumerate*}\n",
       "\\item 167508\n",
       "\\item 4019\n",
       "\\end{enumerate*}\n"
      ],
      "text/markdown": [
       "1. 167508\n",
       "2. 4019\n",
       "\n",
       "\n"
      ],
      "text/plain": [
       "[1] 167508   4019"
      ]
     },
     "metadata": {},
     "output_type": "display_data"
    }
   ],
   "source": [
    "ingredients=fromJSON('./data/words/simplified.json')\n",
    "ingred=Corpus(VectorSource(ingredients$ingredients))\n",
    "DTM=DocumentTermMatrix(ingred,control=list(tolower=F))\n",
    "dim(DTM)"
   ]
  },
  {
   "cell_type": "code",
   "execution_count": 3,
   "metadata": {
    "collapsed": false,
    "deletable": true,
    "editable": true
   },
   "outputs": [
    {
     "data": {
      "text/html": [
       "<ol class=list-inline>\n",
       "\t<li>167508</li>\n",
       "\t<li>1858</li>\n",
       "</ol>\n"
      ],
      "text/latex": [
       "\\begin{enumerate*}\n",
       "\\item 167508\n",
       "\\item 1858\n",
       "\\end{enumerate*}\n"
      ],
      "text/markdown": [
       "1. 167508\n",
       "2. 1858\n",
       "\n",
       "\n"
      ],
      "text/plain": [
       "[1] 167508   1858"
      ]
     },
     "metadata": {},
     "output_type": "display_data"
    }
   ],
   "source": [
    "sparse = removeSparseTerms(DTM, 0.9999)\n",
    "sparseData=as.data.frame(as.matrix(sparse))\n",
    "dim(sparseData)"
   ]
  },
  {
   "cell_type": "code",
   "execution_count": null,
   "metadata": {
    "collapsed": false,
    "deletable": true,
    "editable": true
   },
   "outputs": [
    {
     "name": "stderr",
     "output_type": "stream",
     "text": [
      "\n",
      "Attaching package: ‘bnlearn’\n",
      "\n",
      "The following object is masked from ‘package:stats’:\n",
      "\n",
      "    sigma\n",
      "\n"
     ]
    }
   ],
   "source": [
    "library(bnlearn)\n",
    "bn_obj=hc(sparseData)\n",
    "bn_fit=bn.fit(bn_obj,sparseData,method='bayes')"
   ]
  },
  {
   "cell_type": "code",
   "execution_count": null,
   "metadata": {
    "collapsed": true,
    "deletable": true,
    "editable": true
   },
   "outputs": [],
   "source": []
  }
 ],
 "metadata": {
  "kernelspec": {
   "display_name": "R",
   "language": "R",
   "name": "ir"
  },
  "language_info": {
   "codemirror_mode": "r",
   "file_extension": ".r",
   "mimetype": "text/x-r-source",
   "name": "R",
   "pygments_lexer": "r",
   "version": "3.4.0"
  }
 },
 "nbformat": 4,
 "nbformat_minor": 2
}
